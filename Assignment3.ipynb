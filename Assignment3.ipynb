{
 "cells": [
  {
   "cell_type": "markdown",
   "id": "41ad4deb",
   "metadata": {
    "papermill": {
     "duration": 0.007129,
     "end_time": "2023-03-12T14:51:42.940648",
     "exception": false,
     "start_time": "2023-03-12T14:51:42.933519",
     "status": "completed"
    },
    "tags": []
   },
   "source": [
    "# Step 1: Import Libraries"
   ]
  },
  {
   "cell_type": "code",
   "execution_count": 1,
   "id": "e2f7c449",
   "metadata": {
    "execution": {
     "iopub.execute_input": "2023-03-12T14:51:42.957426Z",
     "iopub.status.busy": "2023-03-12T14:51:42.956222Z",
     "iopub.status.idle": "2023-03-12T14:51:50.913633Z",
     "shell.execute_reply": "2023-03-12T14:51:50.912543Z"
    },
    "papermill": {
     "duration": 7.968567,
     "end_time": "2023-03-12T14:51:50.916519",
     "exception": false,
     "start_time": "2023-03-12T14:51:42.947952",
     "status": "completed"
    },
    "tags": []
   },
   "outputs": [],
   "source": [
    "import pandas as pd \n",
    "import numpy as np \n",
    "import matplotlib.pyplot as plt \n",
    "from sklearn.preprocessing import MinMaxScaler\n",
    "from tensorflow.keras.models import Sequential\n",
    "from tensorflow.keras.layers import Dense, Dropout, LSTM\n",
    "from keras.models import Sequential\n",
    "from keras.layers import Dense, SimpleRNN, Dropout\n",
    "import tensorflow as tf\n",
    "import seaborn as sns\n",
    "\n",
    "\n",
    "# from sklearn.metrics import mean_absolute_error\n",
    "# from sklearn.metrics import mean_squared_error\n",
    "from sklearn.metrics import r2_score\n"
   ]
  },
  {
   "cell_type": "code",
   "execution_count": 2,
   "id": "c04774b9",
   "metadata": {
    "execution": {
     "iopub.execute_input": "2023-03-12T14:51:50.933417Z",
     "iopub.status.busy": "2023-03-12T14:51:50.932805Z",
     "iopub.status.idle": "2023-03-12T14:51:50.939041Z",
     "shell.execute_reply": "2023-03-12T14:51:50.937821Z"
    },
    "papermill": {
     "duration": 0.017031,
     "end_time": "2023-03-12T14:51:50.941380",
     "exception": false,
     "start_time": "2023-03-12T14:51:50.924349",
     "status": "completed"
    },
    "tags": []
   },
   "outputs": [],
   "source": [
    "# Setting random seeds for reproducibility\n",
    "import random as ran\n",
    "ran.seed(0)\n",
    "np.random.seed(0)\n",
    "tf.random.set_seed(0)\n",
    "# Setting seaborn style for plots\n",
    "sns.set_style('dark')\n"
   ]
  },
  {
   "cell_type": "markdown",
   "id": "8eb913e3",
   "metadata": {
    "papermill": {
     "duration": 0.006894,
     "end_time": "2023-03-12T14:51:50.955634",
     "exception": false,
     "start_time": "2023-03-12T14:51:50.948740",
     "status": "completed"
    },
    "tags": []
   },
   "source": [
    "# Step 2: Reading Dataset"
   ]
  },
  {
   "cell_type": "code",
   "execution_count": 3,
   "id": "807554d3",
   "metadata": {
    "execution": {
     "iopub.execute_input": "2023-03-12T14:51:50.971567Z",
     "iopub.status.busy": "2023-03-12T14:51:50.971295Z",
     "iopub.status.idle": "2023-03-12T14:51:50.992615Z",
     "shell.execute_reply": "2023-03-12T14:51:50.991696Z"
    },
    "papermill": {
     "duration": 0.031699,
     "end_time": "2023-03-12T14:51:50.994735",
     "exception": false,
     "start_time": "2023-03-12T14:51:50.963036",
     "status": "completed"
    },
    "tags": []
   },
   "outputs": [],
   "source": [
    "# Loading the Apple stock price dataset\n",
    "true_df=pd.read_csv('AAPL.csv')"
   ]
  },
  {
   "cell_type": "code",
   "execution_count": 4,
   "id": "87e8e818",
   "metadata": {
    "execution": {
     "iopub.execute_input": "2023-03-12T14:51:51.010635Z",
     "iopub.status.busy": "2023-03-12T14:51:51.010366Z",
     "iopub.status.idle": "2023-03-12T14:51:51.033339Z",
     "shell.execute_reply": "2023-03-12T14:51:51.032245Z"
    },
    "papermill": {
     "duration": 0.034549,
     "end_time": "2023-03-12T14:51:51.036616",
     "exception": false,
     "start_time": "2023-03-12T14:51:51.002067",
     "status": "completed"
    },
    "tags": []
   },
   "outputs": [
    {
     "data": {
      "text/html": [
       "<div>\n",
       "<style scoped>\n",
       "    .dataframe tbody tr th:only-of-type {\n",
       "        vertical-align: middle;\n",
       "    }\n",
       "\n",
       "    .dataframe tbody tr th {\n",
       "        vertical-align: top;\n",
       "    }\n",
       "\n",
       "    .dataframe thead th {\n",
       "        text-align: right;\n",
       "    }\n",
       "</style>\n",
       "<table border=\"1\" class=\"dataframe\">\n",
       "  <thead>\n",
       "    <tr style=\"text-align: right;\">\n",
       "      <th></th>\n",
       "      <th>Date</th>\n",
       "      <th>Open</th>\n",
       "      <th>High</th>\n",
       "      <th>Low</th>\n",
       "      <th>Close</th>\n",
       "      <th>Adj Close</th>\n",
       "      <th>Volume</th>\n",
       "    </tr>\n",
       "  </thead>\n",
       "  <tbody>\n",
       "    <tr>\n",
       "      <th>0</th>\n",
       "      <td>2013-11-18</td>\n",
       "      <td>18.749643</td>\n",
       "      <td>18.828215</td>\n",
       "      <td>18.507143</td>\n",
       "      <td>18.522499</td>\n",
       "      <td>16.238520</td>\n",
       "      <td>244944000</td>\n",
       "    </tr>\n",
       "    <tr>\n",
       "      <th>1</th>\n",
       "      <td>2013-11-19</td>\n",
       "      <td>18.536785</td>\n",
       "      <td>18.692142</td>\n",
       "      <td>18.498928</td>\n",
       "      <td>18.555357</td>\n",
       "      <td>16.267323</td>\n",
       "      <td>208938800</td>\n",
       "    </tr>\n",
       "    <tr>\n",
       "      <th>2</th>\n",
       "      <td>2013-11-20</td>\n",
       "      <td>18.543928</td>\n",
       "      <td>18.586430</td>\n",
       "      <td>18.368929</td>\n",
       "      <td>18.392857</td>\n",
       "      <td>16.124861</td>\n",
       "      <td>193916800</td>\n",
       "    </tr>\n",
       "    <tr>\n",
       "      <th>3</th>\n",
       "      <td>2013-11-21</td>\n",
       "      <td>18.485714</td>\n",
       "      <td>18.614643</td>\n",
       "      <td>18.345358</td>\n",
       "      <td>18.612143</td>\n",
       "      <td>16.317106</td>\n",
       "      <td>262026800</td>\n",
       "    </tr>\n",
       "    <tr>\n",
       "      <th>4</th>\n",
       "      <td>2013-11-22</td>\n",
       "      <td>18.554285</td>\n",
       "      <td>18.648571</td>\n",
       "      <td>18.518929</td>\n",
       "      <td>18.564285</td>\n",
       "      <td>16.275156</td>\n",
       "      <td>223725600</td>\n",
       "    </tr>\n",
       "    <tr>\n",
       "      <th>...</th>\n",
       "      <td>...</td>\n",
       "      <td>...</td>\n",
       "      <td>...</td>\n",
       "      <td>...</td>\n",
       "      <td>...</td>\n",
       "      <td>...</td>\n",
       "      <td>...</td>\n",
       "    </tr>\n",
       "    <tr>\n",
       "      <th>2511</th>\n",
       "      <td>2023-11-09</td>\n",
       "      <td>182.960007</td>\n",
       "      <td>184.119995</td>\n",
       "      <td>181.809998</td>\n",
       "      <td>182.410004</td>\n",
       "      <td>182.169998</td>\n",
       "      <td>53763500</td>\n",
       "    </tr>\n",
       "    <tr>\n",
       "      <th>2512</th>\n",
       "      <td>2023-11-10</td>\n",
       "      <td>183.970001</td>\n",
       "      <td>186.570007</td>\n",
       "      <td>183.529999</td>\n",
       "      <td>186.399994</td>\n",
       "      <td>186.399994</td>\n",
       "      <td>66133400</td>\n",
       "    </tr>\n",
       "    <tr>\n",
       "      <th>2513</th>\n",
       "      <td>2023-11-13</td>\n",
       "      <td>185.820007</td>\n",
       "      <td>186.029999</td>\n",
       "      <td>184.210007</td>\n",
       "      <td>184.800003</td>\n",
       "      <td>184.800003</td>\n",
       "      <td>43627500</td>\n",
       "    </tr>\n",
       "    <tr>\n",
       "      <th>2514</th>\n",
       "      <td>2023-11-14</td>\n",
       "      <td>187.699997</td>\n",
       "      <td>188.110001</td>\n",
       "      <td>186.300003</td>\n",
       "      <td>187.440002</td>\n",
       "      <td>187.440002</td>\n",
       "      <td>60108400</td>\n",
       "    </tr>\n",
       "    <tr>\n",
       "      <th>2515</th>\n",
       "      <td>2023-11-15</td>\n",
       "      <td>187.850006</td>\n",
       "      <td>189.500000</td>\n",
       "      <td>187.779999</td>\n",
       "      <td>188.009995</td>\n",
       "      <td>188.009995</td>\n",
       "      <td>53666800</td>\n",
       "    </tr>\n",
       "  </tbody>\n",
       "</table>\n",
       "<p>2516 rows × 7 columns</p>\n",
       "</div>"
      ],
      "text/plain": [
       "            Date        Open        High         Low       Close   Adj Close  \\\n",
       "0     2013-11-18   18.749643   18.828215   18.507143   18.522499   16.238520   \n",
       "1     2013-11-19   18.536785   18.692142   18.498928   18.555357   16.267323   \n",
       "2     2013-11-20   18.543928   18.586430   18.368929   18.392857   16.124861   \n",
       "3     2013-11-21   18.485714   18.614643   18.345358   18.612143   16.317106   \n",
       "4     2013-11-22   18.554285   18.648571   18.518929   18.564285   16.275156   \n",
       "...          ...         ...         ...         ...         ...         ...   \n",
       "2511  2023-11-09  182.960007  184.119995  181.809998  182.410004  182.169998   \n",
       "2512  2023-11-10  183.970001  186.570007  183.529999  186.399994  186.399994   \n",
       "2513  2023-11-13  185.820007  186.029999  184.210007  184.800003  184.800003   \n",
       "2514  2023-11-14  187.699997  188.110001  186.300003  187.440002  187.440002   \n",
       "2515  2023-11-15  187.850006  189.500000  187.779999  188.009995  188.009995   \n",
       "\n",
       "         Volume  \n",
       "0     244944000  \n",
       "1     208938800  \n",
       "2     193916800  \n",
       "3     262026800  \n",
       "4     223725600  \n",
       "...         ...  \n",
       "2511   53763500  \n",
       "2512   66133400  \n",
       "2513   43627500  \n",
       "2514   60108400  \n",
       "2515   53666800  \n",
       "\n",
       "[2516 rows x 7 columns]"
      ]
     },
     "execution_count": 4,
     "metadata": {},
     "output_type": "execute_result"
    }
   ],
   "source": [
    "true_df"
   ]
  },
  {
   "cell_type": "code",
   "execution_count": 5,
   "id": "661a0dcd",
   "metadata": {
    "execution": {
     "iopub.execute_input": "2023-03-12T14:51:51.053864Z",
     "iopub.status.busy": "2023-03-12T14:51:51.052990Z",
     "iopub.status.idle": "2023-03-12T14:51:51.062924Z",
     "shell.execute_reply": "2023-03-12T14:51:51.062077Z"
    },
    "papermill": {
     "duration": 0.020586,
     "end_time": "2023-03-12T14:51:51.064984",
     "exception": false,
     "start_time": "2023-03-12T14:51:51.044398",
     "status": "completed"
    },
    "tags": []
   },
   "outputs": [],
   "source": [
    "true_df = true_df.dropna()"
   ]
  },
  {
   "cell_type": "code",
   "execution_count": 6,
   "id": "652d6f04",
   "metadata": {
    "execution": {
     "iopub.execute_input": "2023-03-12T14:51:51.082179Z",
     "iopub.status.busy": "2023-03-12T14:51:51.081286Z",
     "iopub.status.idle": "2023-03-12T14:51:51.095180Z",
     "shell.execute_reply": "2023-03-12T14:51:51.094267Z"
    },
    "papermill": {
     "duration": 0.024403,
     "end_time": "2023-03-12T14:51:51.097305",
     "exception": false,
     "start_time": "2023-03-12T14:51:51.072902",
     "status": "completed"
    },
    "tags": []
   },
   "outputs": [],
   "source": [
    "true_df=true_df.drop_duplicates()"
   ]
  },
  {
   "cell_type": "code",
   "execution_count": 7,
   "id": "0c8dd8cb",
   "metadata": {
    "execution": {
     "iopub.execute_input": "2023-03-12T14:51:51.114558Z",
     "iopub.status.busy": "2023-03-12T14:51:51.113676Z",
     "iopub.status.idle": "2023-03-12T14:51:51.120541Z",
     "shell.execute_reply": "2023-03-12T14:51:51.119541Z"
    },
    "papermill": {
     "duration": 0.01753,
     "end_time": "2023-03-12T14:51:51.122836",
     "exception": false,
     "start_time": "2023-03-12T14:51:51.105306",
     "status": "completed"
    },
    "tags": []
   },
   "outputs": [
    {
     "data": {
      "text/plain": [
       "array(['Date', 'Open', 'High', 'Low', 'Close', 'Adj Close', 'Volume'],\n",
       "      dtype=object)"
      ]
     },
     "execution_count": 7,
     "metadata": {},
     "output_type": "execute_result"
    }
   ],
   "source": [
    "true_df.columns.values"
   ]
  },
  {
   "cell_type": "code",
   "execution_count": 8,
   "id": "184ab4d4",
   "metadata": {
    "execution": {
     "iopub.execute_input": "2023-03-12T14:51:51.140244Z",
     "iopub.status.busy": "2023-03-12T14:51:51.139370Z",
     "iopub.status.idle": "2023-03-12T14:51:51.144389Z",
     "shell.execute_reply": "2023-03-12T14:51:51.143488Z"
    },
    "papermill": {
     "duration": 0.015762,
     "end_time": "2023-03-12T14:51:51.146433",
     "exception": false,
     "start_time": "2023-03-12T14:51:51.130671",
     "status": "completed"
    },
    "tags": []
   },
   "outputs": [],
   "source": [
    "true_df.reset_index(drop=True,inplace=True)"
   ]
  },
  {
   "cell_type": "markdown",
   "id": "fd737d77",
   "metadata": {
    "papermill": {
     "duration": 0.007475,
     "end_time": "2023-03-12T14:51:51.161659",
     "exception": false,
     "start_time": "2023-03-12T14:51:51.154184",
     "status": "completed"
    },
    "tags": []
   },
   "source": [
    "# Step 3:  Train & Test Definition"
   ]
  },
  {
   "cell_type": "code",
   "execution_count": 9,
   "id": "ef6c3612",
   "metadata": {
    "execution": {
     "iopub.execute_input": "2023-03-12T14:51:51.177995Z",
     "iopub.status.busy": "2023-03-12T14:51:51.177684Z",
     "iopub.status.idle": "2023-03-12T14:51:51.182510Z",
     "shell.execute_reply": "2023-03-12T14:51:51.181473Z"
    },
    "papermill": {
     "duration": 0.015306,
     "end_time": "2023-03-12T14:51:51.184765",
     "exception": false,
     "start_time": "2023-03-12T14:51:51.169459",
     "status": "completed"
    },
    "tags": []
   },
   "outputs": [],
   "source": [
    "# Splitting the data into training and testing sets (90% train, 10% test)\n",
    "train = true_df[:int(0.9 * len(true_df))] \n",
    "train\n",
    "test = true_df.iloc[2224:,:]\n",
    "# test"
   ]
  },
  {
   "cell_type": "markdown",
   "id": "3b1c5f1b",
   "metadata": {
    "papermill": {
     "duration": 0.00744,
     "end_time": "2023-03-12T14:51:51.199968",
     "exception": false,
     "start_time": "2023-03-12T14:51:51.192528",
     "status": "completed"
    },
    "tags": []
   },
   "source": [
    "# Step 4:  Visuallization"
   ]
  },
  {
   "cell_type": "code",
   "execution_count": 10,
   "id": "2d9222a0",
   "metadata": {
    "execution": {
     "iopub.execute_input": "2023-03-12T14:51:51.216312Z",
     "iopub.status.busy": "2023-03-12T14:51:51.216017Z",
     "iopub.status.idle": "2023-03-12T14:51:52.588731Z",
     "shell.execute_reply": "2023-03-12T14:51:52.587524Z"
    },
    "papermill": {
     "duration": 1.383957,
     "end_time": "2023-03-12T14:51:52.591411",
     "exception": false,
     "start_time": "2023-03-12T14:51:51.207454",
     "status": "completed"
    },
    "tags": []
   },
   "outputs": [
    {
     "data": {
      "text/plain": [
       "array([[<Axes: title={'center': 'Open'}>,\n",
       "        <Axes: title={'center': 'High'}>],\n",
       "       [<Axes: title={'center': 'Low'}>,\n",
       "        <Axes: title={'center': 'Close'}>],\n",
       "       [<Axes: title={'center': 'Adj Close'}>,\n",
       "        <Axes: title={'center': 'Volume'}>]], dtype=object)"
      ]
     },
     "execution_count": 10,
     "metadata": {},
     "output_type": "execute_result"
    },
    {
     "data": {
      "image/png": "[encoded data removed]",
      "text/plain": [
       "<Figure size 1500x1200 with 6 Axes>"
      ]
     },
     "metadata": {},
     "output_type": "display_data"
    }
   ],
   "source": [
    "true_df.hist(figsize=(15,12),color='blue')"
   ]
  },
  {
   "cell_type": "code",
   "execution_count": 11,
   "id": "36b7270e",
   "metadata": {
    "execution": {
     "iopub.execute_input": "2023-03-12T14:51:52.610462Z",
     "iopub.status.busy": "2023-03-12T14:51:52.610164Z",
     "iopub.status.idle": "2023-03-12T14:51:52.891066Z",
     "shell.execute_reply": "2023-03-12T14:51:52.890026Z"
    },
    "papermill": {
     "duration": 0.29291,
     "end_time": "2023-03-12T14:51:52.893385",
     "exception": false,
     "start_time": "2023-03-12T14:51:52.600475",
     "status": "completed"
    },
    "tags": []
   },
   "outputs": [
    {
     "data": {
      "image/png": "[encoded data removed]",
      "text/plain": [
       "<Figure size 1500x500 with 1 Axes>"
      ]
     },
     "metadata": {},
     "output_type": "display_data"
    }
   ],
   "source": [
    "# Plotting the training and test sets for visualization\n",
    "fig, ax = plt.subplots(figsize=(15, 5))\n",
    "train.Close.plot(ax=ax, label='Training Set', title='Data Train/Test Split')\n",
    "test.Close.plot(ax=ax, label='Test Set')\n",
    "ax.legend(['Training Set', 'Test Set'])\n",
    "plt.show();"
   ]
  },
  {
   "cell_type": "markdown",
   "id": "01724f31",
   "metadata": {
    "papermill": {
     "duration": 0.00934,
     "end_time": "2023-03-12T14:51:52.912830",
     "exception": false,
     "start_time": "2023-03-12T14:51:52.903490",
     "status": "completed"
    },
    "tags": []
   },
   "source": [
    "# Step 5:  Creating Model"
   ]
  },
  {
   "cell_type": "markdown",
   "id": "77fe6d01",
   "metadata": {
    "papermill": {
     "duration": 0.00919,
     "end_time": "2023-03-12T14:51:52.931548",
     "exception": false,
     "start_time": "2023-03-12T14:51:52.922358",
     "status": "completed"
    },
    "tags": []
   },
   "source": [
    "## I wanna predict the *close* feature"
   ]
  },
  {
   "cell_type": "code",
   "execution_count": 12,
   "id": "3c9d56a1",
   "metadata": {
    "execution": {
     "iopub.execute_input": "2023-03-12T14:51:52.953217Z",
     "iopub.status.busy": "2023-03-12T14:51:52.951415Z",
     "iopub.status.idle": "2023-03-12T14:51:52.968994Z",
     "shell.execute_reply": "2023-03-12T14:51:52.962210Z"
    },
    "papermill": {
     "duration": 0.031393,
     "end_time": "2023-03-12T14:51:52.972376",
     "exception": false,
     "start_time": "2023-03-12T14:51:52.940983",
     "status": "completed"
    },
    "tags": []
   },
   "outputs": [
    {
     "data": {
      "text/plain": [
       "array([[ 18.522499],\n",
       "       [ 18.555357],\n",
       "       [ 18.392857],\n",
       "       ...,\n",
       "       [146.869995],\n",
       "       [149.699997],\n",
       "       [148.279999]])"
      ]
     },
     "execution_count": 12,
     "metadata": {},
     "output_type": "execute_result"
    }
   ],
   "source": [
    "# Selecting the 'Close' price column for training\n",
    "close_train= train.iloc[:, 4:5].values \n",
    "close_train"
   ]
  },
  {
   "cell_type": "code",
   "execution_count": 13,
   "id": "34d4f25f",
   "metadata": {
    "execution": {
     "iopub.execute_input": "2023-03-12T14:51:53.012859Z",
     "iopub.status.busy": "2023-03-12T14:51:53.012430Z",
     "iopub.status.idle": "2023-03-12T14:51:53.019866Z",
     "shell.execute_reply": "2023-03-12T14:51:53.018724Z"
    },
    "papermill": {
     "duration": 0.035095,
     "end_time": "2023-03-12T14:51:53.024599",
     "exception": false,
     "start_time": "2023-03-12T14:51:52.989504",
     "status": "completed"
    },
    "tags": []
   },
   "outputs": [],
   "source": [
    "# Applying Min-Max scaling to normalize the data between -1 and 1\n",
    "normalizer = MinMaxScaler(feature_range=(-1,1))\n",
    "\n",
    "train_set_scaled= normalizer.fit_transform(close_train) "
   ]
  },
  {
   "cell_type": "code",
   "execution_count": 14,
   "id": "6aae553d",
   "metadata": {
    "execution": {
     "iopub.execute_input": "2023-03-12T14:51:53.064477Z",
     "iopub.status.busy": "2023-03-12T14:51:53.064035Z",
     "iopub.status.idle": "2023-03-12T14:51:53.071424Z",
     "shell.execute_reply": "2023-03-12T14:51:53.070489Z"
    },
    "papermill": {
     "duration": 0.038968,
     "end_time": "2023-03-12T14:51:53.078723",
     "exception": false,
     "start_time": "2023-03-12T14:51:53.039755",
     "status": "completed"
    },
    "tags": []
   },
   "outputs": [
    {
     "data": {
      "text/plain": [
       "array([[-0.99179811],\n",
       "       [-0.9913978 ],\n",
       "       [-0.99337756],\n",
       "       ...,\n",
       "       [ 0.57188294],\n",
       "       [ 0.60636138],\n",
       "       [ 0.58906128]])"
      ]
     },
     "execution_count": 14,
     "metadata": {},
     "output_type": "execute_result"
    }
   ],
   "source": [
    "train_set_scaled"
   ]
  },
  {
   "cell_type": "markdown",
   "id": "0799e634",
   "metadata": {
    "papermill": {
     "duration": 0.014793,
     "end_time": "2023-03-12T14:51:53.108117",
     "exception": false,
     "start_time": "2023-03-12T14:51:53.093324",
     "status": "completed"
    },
    "tags": []
   },
   "source": [
    "##  Here i used from sliding window for validation"
   ]
  },
  {
   "cell_type": "code",
   "execution_count": 15,
   "id": "49e5550c",
   "metadata": {
    "execution": {
     "iopub.execute_input": "2023-03-12T14:51:53.138854Z",
     "iopub.status.busy": "2023-03-12T14:51:53.138355Z",
     "iopub.status.idle": "2023-03-12T14:51:53.152107Z",
     "shell.execute_reply": "2023-03-12T14:51:53.151085Z"
    },
    "papermill": {
     "duration": 0.032898,
     "end_time": "2023-03-12T14:51:53.155781",
     "exception": false,
     "start_time": "2023-03-12T14:51:53.122883",
     "status": "completed"
    },
    "tags": []
   },
   "outputs": [],
   "source": [
    "# Creating data structures with 60 timesteps and 1 output\n",
    "x_train= []\n",
    "y_train = []\n",
    " \n",
    "for i in range(60, len(train)): \n",
    "    x_train.append(train_set_scaled[i-60:i, 0])  # 60 previous days' stock prices\n",
    "    y_train.append(train_set_scaled[i, 0])   # next day's stock price\n",
    "\n",
    "# Converting lists to numpy arrays and reshaping for LSTM input\n",
    "x_train, y_train= np.array(x_train), np.array(y_train)\n",
    "x_train = np.reshape(x_train, (x_train.shape[0], x_train.shape[1], 1)) \n"
   ]
  },
  {
   "cell_type": "markdown",
   "metadata": {},
   "source": [
    "## RNN Model"
   ]
  },
  {
   "cell_type": "code",
   "execution_count": 16,
   "metadata": {},
   "outputs": [
    {
     "name": "stdout",
     "output_type": "stream",
     "text": [
      "Epoch 1/100\n",
      "69/69 [==============================] - 5s 33ms/step - loss: 0.3876 - accuracy: 4.5372e-04\n",
      "Epoch 2/100\n",
      "69/69 [==============================] - 2s 35ms/step - loss: 0.2263 - accuracy: 4.5372e-04\n",
      "Epoch 3/100\n",
      "69/69 [==============================] - 2s 33ms/step - loss: 0.1551 - accuracy: 4.5372e-04\n",
      "Epoch 4/100\n",
      "69/69 [==============================] - 3s 36ms/step - loss: 0.1159 - accuracy: 4.5372e-04\n",
      "Epoch 5/100\n",
      "69/69 [==============================] - 2s 33ms/step - loss: 0.0799 - accuracy: 4.5372e-04\n",
      "Epoch 6/100\n",
      "69/69 [==============================] - 2s 33ms/step - loss: 0.0677 - accuracy: 4.5372e-04\n",
      "Epoch 7/100\n",
      "69/69 [==============================] - 2s 33ms/step - loss: 0.0521 - accuracy: 4.5372e-04\n",
      "Epoch 8/100\n",
      "69/69 [==============================] - 2s 33ms/step - loss: 0.0450 - accuracy: 4.5372e-04\n",
      "Epoch 9/100\n",
      "69/69 [==============================] - 2s 34ms/step - loss: 0.0357 - accuracy: 4.5372e-04\n",
      "Epoch 10/100\n",
      "69/69 [==============================] - 2s 33ms/step - loss: 0.0317 - accuracy: 4.5372e-04\n",
      "Epoch 11/100\n",
      "69/69 [==============================] - 2s 32ms/step - loss: 0.0283 - accuracy: 4.5372e-04\n",
      "Epoch 12/100\n",
      "69/69 [==============================] - 2s 33ms/step - loss: 0.0247 - accuracy: 0.0000e+00\n",
      "Epoch 13/100\n",
      "69/69 [==============================] - 2s 33ms/step - loss: 0.0222 - accuracy: 4.5372e-04\n",
      "Epoch 14/100\n",
      "69/69 [==============================] - 2s 35ms/step - loss: 0.0186 - accuracy: 4.5372e-04\n",
      "Epoch 15/100\n",
      "69/69 [==============================] - 2s 32ms/step - loss: 0.0164 - accuracy: 4.5372e-04\n",
      "Epoch 16/100\n",
      "69/69 [==============================] - 2s 33ms/step - loss: 0.0148 - accuracy: 4.5372e-04\n",
      "Epoch 17/100\n",
      "69/69 [==============================] - 2s 32ms/step - loss: 0.0137 - accuracy: 4.5372e-04\n",
      "Epoch 18/100\n",
      "69/69 [==============================] - 2s 34ms/step - loss: 0.0132 - accuracy: 4.5372e-04\n",
      "Epoch 19/100\n",
      "69/69 [==============================] - 2s 34ms/step - loss: 0.0114 - accuracy: 4.5372e-04\n",
      "Epoch 20/100\n",
      "69/69 [==============================] - 2s 32ms/step - loss: 0.0108 - accuracy: 4.5372e-04\n",
      "Epoch 21/100\n",
      "69/69 [==============================] - 2s 32ms/step - loss: 0.0103 - accuracy: 4.5372e-04\n",
      "Epoch 22/100\n",
      "69/69 [==============================] - 2s 33ms/step - loss: 0.0097 - accuracy: 4.5372e-04\n",
      "Epoch 23/100\n",
      "69/69 [==============================] - 2s 34ms/step - loss: 0.0095 - accuracy: 4.5372e-04\n",
      "Epoch 24/100\n",
      "69/69 [==============================] - 2s 32ms/step - loss: 0.0083 - accuracy: 4.5372e-04\n",
      "Epoch 25/100\n",
      "69/69 [==============================] - 2s 32ms/step - loss: 0.0082 - accuracy: 4.5372e-04\n",
      "Epoch 26/100\n",
      "69/69 [==============================] - 2s 33ms/step - loss: 0.0076 - accuracy: 4.5372e-04\n",
      "Epoch 27/100\n",
      "69/69 [==============================] - 2s 32ms/step - loss: 0.0076 - accuracy: 4.5372e-04\n",
      "Epoch 28/100\n",
      "69/69 [==============================] - 2s 35ms/step - loss: 0.0071 - accuracy: 4.5372e-04\n",
      "Epoch 29/100\n",
      "69/69 [==============================] - 2s 32ms/step - loss: 0.0069 - accuracy: 4.5372e-04\n",
      "Epoch 30/100\n",
      "69/69 [==============================] - 2s 33ms/step - loss: 0.0066 - accuracy: 4.5372e-04\n",
      "Epoch 31/100\n",
      "69/69 [==============================] - 2s 33ms/step - loss: 0.0066 - accuracy: 4.5372e-04\n",
      "Epoch 32/100\n",
      "69/69 [==============================] - 2s 32ms/step - loss: 0.0062 - accuracy: 4.5372e-04\n",
      "Epoch 33/100\n",
      "69/69 [==============================] - 2s 35ms/step - loss: 0.0059 - accuracy: 4.5372e-04\n",
      "Epoch 34/100\n",
      "69/69 [==============================] - 2s 32ms/step - loss: 0.0065 - accuracy: 4.5372e-04\n",
      "Epoch 35/100\n",
      "69/69 [==============================] - 2s 33ms/step - loss: 0.0061 - accuracy: 4.5372e-04\n",
      "Epoch 36/100\n",
      "69/69 [==============================] - 2s 32ms/step - loss: 0.0060 - accuracy: 4.5372e-04\n",
      "Epoch 37/100\n",
      "69/69 [==============================] - 2s 33ms/step - loss: 0.0062 - accuracy: 4.5372e-04\n",
      "Epoch 38/100\n",
      "69/69 [==============================] - 2s 34ms/step - loss: 0.0062 - accuracy: 4.5372e-04\n",
      "Epoch 39/100\n",
      "69/69 [==============================] - 2s 33ms/step - loss: 0.0057 - accuracy: 4.5372e-04\n",
      "Epoch 40/100\n",
      "69/69 [==============================] - 2s 32ms/step - loss: 0.0056 - accuracy: 4.5372e-04\n",
      "Epoch 41/100\n",
      "69/69 [==============================] - 2s 33ms/step - loss: 0.0054 - accuracy: 4.5372e-04\n",
      "Epoch 42/100\n",
      "69/69 [==============================] - 2s 34ms/step - loss: 0.0056 - accuracy: 4.5372e-04\n",
      "Epoch 43/100\n",
      "69/69 [==============================] - 2s 33ms/step - loss: 0.0054 - accuracy: 4.5372e-04\n",
      "Epoch 44/100\n",
      "69/69 [==============================] - 2s 34ms/step - loss: 0.0053 - accuracy: 4.5372e-04\n",
      "Epoch 45/100\n",
      "69/69 [==============================] - 2s 32ms/step - loss: 0.0052 - accuracy: 4.5372e-04\n",
      "Epoch 46/100\n",
      "69/69 [==============================] - 2s 33ms/step - loss: 0.0053 - accuracy: 4.5372e-04\n",
      "Epoch 47/100\n",
      "69/69 [==============================] - 2s 35ms/step - loss: 0.0053 - accuracy: 4.5372e-04\n",
      "Epoch 48/100\n",
      "69/69 [==============================] - 2s 33ms/step - loss: 0.0054 - accuracy: 4.5372e-04\n",
      "Epoch 49/100\n",
      "69/69 [==============================] - 2s 33ms/step - loss: 0.0052 - accuracy: 4.5372e-04\n",
      "Epoch 50/100\n",
      "69/69 [==============================] - 2s 32ms/step - loss: 0.0055 - accuracy: 4.5372e-04\n",
      "Epoch 51/100\n",
      "69/69 [==============================] - 2s 32ms/step - loss: 0.0057 - accuracy: 4.5372e-04\n",
      "Epoch 52/100\n",
      "69/69 [==============================] - 2s 35ms/step - loss: 0.0048 - accuracy: 4.5372e-04\n",
      "Epoch 53/100\n",
      "69/69 [==============================] - 2s 32ms/step - loss: 0.0052 - accuracy: 4.5372e-04\n",
      "Epoch 54/100\n",
      "69/69 [==============================] - 2s 33ms/step - loss: 0.0055 - accuracy: 4.5372e-04\n",
      "Epoch 55/100\n",
      "69/69 [==============================] - 2s 32ms/step - loss: 0.0053 - accuracy: 4.5372e-04\n",
      "Epoch 56/100\n",
      "69/69 [==============================] - 2s 32ms/step - loss: 0.0050 - accuracy: 4.5372e-04\n",
      "Epoch 57/100\n",
      "69/69 [==============================] - 2s 34ms/step - loss: 0.0056 - accuracy: 4.5372e-04\n",
      "Epoch 58/100\n",
      "69/69 [==============================] - 2s 33ms/step - loss: 0.0060 - accuracy: 4.5372e-04\n",
      "Epoch 59/100\n",
      "69/69 [==============================] - 2s 32ms/step - loss: 0.0051 - accuracy: 4.5372e-04\n",
      "Epoch 60/100\n",
      "69/69 [==============================] - 2s 32ms/step - loss: 0.0053 - accuracy: 4.5372e-04\n",
      "Epoch 61/100\n",
      "69/69 [==============================] - 2s 36ms/step - loss: 0.0055 - accuracy: 4.5372e-04\n",
      "Epoch 62/100\n",
      "69/69 [==============================] - 2s 33ms/step - loss: 0.0051 - accuracy: 4.5372e-04\n",
      "Epoch 63/100\n",
      "69/69 [==============================] - 2s 33ms/step - loss: 0.0057 - accuracy: 4.5372e-04\n",
      "Epoch 64/100\n",
      "69/69 [==============================] - 2s 32ms/step - loss: 0.0050 - accuracy: 4.5372e-04\n",
      "Epoch 65/100\n",
      "69/69 [==============================] - 2s 33ms/step - loss: 0.0050 - accuracy: 4.5372e-04\n",
      "Epoch 66/100\n",
      "69/69 [==============================] - 2s 34ms/step - loss: 0.0052 - accuracy: 4.5372e-04\n",
      "Epoch 67/100\n",
      "69/69 [==============================] - 2s 32ms/step - loss: 0.0050 - accuracy: 4.5372e-04\n",
      "Epoch 68/100\n",
      "69/69 [==============================] - 2s 32ms/step - loss: 0.0056 - accuracy: 4.5372e-04\n",
      "Epoch 69/100\n",
      "69/69 [==============================] - 2s 33ms/step - loss: 0.0051 - accuracy: 4.5372e-04\n",
      "Epoch 70/100\n",
      "69/69 [==============================] - 2s 33ms/step - loss: 0.0064 - accuracy: 4.5372e-04\n",
      "Epoch 71/100\n",
      "69/69 [==============================] - 2s 34ms/step - loss: 0.0052 - accuracy: 4.5372e-04\n",
      "Epoch 72/100\n",
      "69/69 [==============================] - 2s 33ms/step - loss: 0.0054 - accuracy: 4.5372e-04\n",
      "Epoch 73/100\n",
      "69/69 [==============================] - 2s 32ms/step - loss: 0.0051 - accuracy: 4.5372e-04\n",
      "Epoch 74/100\n",
      "69/69 [==============================] - 2s 33ms/step - loss: 0.0048 - accuracy: 4.5372e-04\n",
      "Epoch 75/100\n",
      "69/69 [==============================] - 2s 32ms/step - loss: 0.0048 - accuracy: 4.5372e-04\n",
      "Epoch 76/100\n",
      "69/69 [==============================] - 2s 34ms/step - loss: 0.0047 - accuracy: 4.5372e-04\n",
      "Epoch 77/100\n",
      "69/69 [==============================] - 2s 33ms/step - loss: 0.0055 - accuracy: 4.5372e-04\n",
      "Epoch 78/100\n",
      "69/69 [==============================] - 2s 32ms/step - loss: 0.0052 - accuracy: 4.5372e-04\n",
      "Epoch 79/100\n",
      "69/69 [==============================] - 2s 33ms/step - loss: 0.0051 - accuracy: 4.5372e-04\n",
      "Epoch 80/100\n",
      "69/69 [==============================] - 2s 35ms/step - loss: 0.0048 - accuracy: 4.5372e-04\n",
      "Epoch 81/100\n",
      "69/69 [==============================] - 2s 33ms/step - loss: 0.0051 - accuracy: 4.5372e-04\n",
      "Epoch 82/100\n",
      "69/69 [==============================] - 2s 32ms/step - loss: 0.0055 - accuracy: 4.5372e-04\n",
      "Epoch 83/100\n",
      "69/69 [==============================] - 2s 33ms/step - loss: 0.0054 - accuracy: 4.5372e-04\n",
      "Epoch 84/100\n",
      "69/69 [==============================] - 2s 32ms/step - loss: 0.0054 - accuracy: 4.5372e-04\n",
      "Epoch 85/100\n",
      "69/69 [==============================] - 2s 34ms/step - loss: 0.0056 - accuracy: 4.5372e-04\n",
      "Epoch 86/100\n",
      "69/69 [==============================] - 2s 34ms/step - loss: 0.0052 - accuracy: 4.5372e-04\n",
      "Epoch 87/100\n",
      "69/69 [==============================] - 2s 32ms/step - loss: 0.0049 - accuracy: 4.5372e-04\n",
      "Epoch 88/100\n",
      "69/69 [==============================] - 2s 33ms/step - loss: 0.0050 - accuracy: 4.5372e-04\n",
      "Epoch 89/100\n",
      "69/69 [==============================] - 2s 33ms/step - loss: 0.0051 - accuracy: 4.5372e-04\n",
      "Epoch 90/100\n",
      "69/69 [==============================] - 2s 35ms/step - loss: 0.0052 - accuracy: 4.5372e-04\n",
      "Epoch 91/100\n",
      "69/69 [==============================] - 2s 33ms/step - loss: 0.0051 - accuracy: 4.5372e-04\n",
      "Epoch 92/100\n",
      "69/69 [==============================] - 2s 32ms/step - loss: 0.0049 - accuracy: 4.5372e-04\n",
      "Epoch 93/100\n",
      "69/69 [==============================] - 2s 33ms/step - loss: 0.0050 - accuracy: 4.5372e-04\n",
      "Epoch 94/100\n",
      "69/69 [==============================] - 2s 33ms/step - loss: 0.0046 - accuracy: 4.5372e-04\n",
      "Epoch 95/100\n",
      "69/69 [==============================] - 2s 34ms/step - loss: 0.0044 - accuracy: 4.5372e-04\n",
      "Epoch 96/100\n",
      "69/69 [==============================] - 2s 33ms/step - loss: 0.0045 - accuracy: 4.5372e-04\n",
      "Epoch 97/100\n",
      "69/69 [==============================] - 2s 33ms/step - loss: 0.0051 - accuracy: 4.5372e-04\n",
      "Epoch 98/100\n",
      "69/69 [==============================] - 2s 33ms/step - loss: 0.0050 - accuracy: 4.5372e-04\n",
      "Epoch 99/100\n",
      "69/69 [==============================] - 2s 35ms/step - loss: 0.0048 - accuracy: 4.5372e-04\n",
      "Epoch 100/100\n",
      "69/69 [==============================] - 2s 33ms/step - loss: 0.0047 - accuracy: 4.5372e-04\n"
     ]
    }
   ],
   "source": [
    "# RNN Model Building\n",
    "rnn_regressor = Sequential()\n",
    "\n",
    "# Adding the first RNN layer with dropout regularization\n",
    "# 'return_sequences' is True for stacking RNN layers\n",
    "rnn_regressor.add(SimpleRNN(units = 50, activation = \"tanh\", return_sequences = True, input_shape = (x_train.shape[1], 1)))\n",
    "rnn_regressor.add(Dropout(0.2))  # Dropout to prevent overfitting\n",
    "\n",
    "# Adding the second RNN layer and dropout regularization\n",
    "rnn_regressor.add(SimpleRNN(units = 50, activation = \"tanh\", return_sequences = True))\n",
    "rnn_regressor.add(Dropout(0.2))\n",
    "\n",
    "# Adding the third RNN layer and dropout regularization\n",
    "rnn_regressor.add(SimpleRNN(units = 50, activation = \"tanh\", return_sequences = True))\n",
    "rnn_regressor.add(Dropout(0.2))\n",
    "\n",
    "# Adding the fourth RNN layer\n",
    "rnn_regressor.add(SimpleRNN(units = 50))\n",
    "rnn_regressor.add(Dropout(0.2))\n",
    "\n",
    "# Adding the output layer\n",
    "rnn_regressor.add(Dense(units = 1))\n",
    "\n",
    "# Compiling the RNN\n",
    "# Using Adam optimizer and mean squared error as loss function\n",
    "rnn_regressor.compile(optimizer = \"adam\", loss = \"mean_squared_error\", metrics = [\"accuracy\"])\n",
    "\n",
    "# Fitting the RNN to the training set\n",
    "rnn_history = rnn_regressor.fit(x_train, y_train, epochs = 100, batch_size = 32)\n"
   ]
  },
  {
   "cell_type": "code",
   "execution_count": 17,
   "metadata": {},
   "outputs": [],
   "source": [
    "# Preparing the test set for predictions\n",
    "rnn_price_test = test.iloc[:, 4:5].values  "
   ]
  },
  {
   "cell_type": "code",
   "execution_count": 18,
   "metadata": {},
   "outputs": [
    {
     "data": {
      "text/plain": [
       "(2264, 1)"
      ]
     },
     "execution_count": 18,
     "metadata": {},
     "output_type": "execute_result"
    }
   ],
   "source": [
    "close_train.shape"
   ]
  },
  {
   "cell_type": "code",
   "execution_count": 19,
   "metadata": {},
   "outputs": [
    {
     "data": {
      "text/plain": [
       "2556"
      ]
     },
     "execution_count": 19,
     "metadata": {},
     "output_type": "execute_result"
    }
   ],
   "source": [
    "totality = pd.concat((pd.DataFrame(close_train), test['Close']), axis = 0)\n",
    "totality.reset_index(drop=True,inplace=True)\n",
    "len(totality)   "
   ]
  },
  {
   "cell_type": "code",
   "execution_count": 20,
   "metadata": {},
   "outputs": [],
   "source": [
    "inputs = totality[len(totality) - len(test) - 60:].values\n",
    "inputs = inputs.reshape(-1, 1)"
   ]
  },
  {
   "cell_type": "code",
   "execution_count": 21,
   "metadata": {},
   "outputs": [
    {
     "data": {
      "text/plain": [
       "352"
      ]
     },
     "execution_count": 21,
     "metadata": {},
     "output_type": "execute_result"
    }
   ],
   "source": [
    "inputs = normalizer.transform(inputs)\n",
    "len(inputs)"
   ]
  },
  {
   "cell_type": "code",
   "execution_count": 22,
   "metadata": {},
   "outputs": [],
   "source": [
    "# Reshaping test data for LSTM input\n",
    "x_test = []\n",
    "y_test=[]\n",
    "for i in range(60, len(inputs)):\n",
    "    x_test.append(inputs[i-60:i, 0]) \n",
    "\n",
    "\n",
    "    y_test.append(inputs[i, 0])   \n",
    "\n",
    "x_test, y_test= np.array(x_test), np.array(y_test)\n",
    "x_test = np.reshape(x_test, (x_test.shape[0], x_test.shape[1], 1))\n"
   ]
  },
  {
   "cell_type": "code",
   "execution_count": 23,
   "metadata": {},
   "outputs": [
    {
     "name": "stdout",
     "output_type": "stream",
     "text": [
      "X_train Shape:  (2204, 60, 1)\n",
      "y_train Shape:  (2204,)\n",
      "X_test Shape:   (292, 60, 1)\n",
      "y_test Shape:   (292,)\n"
     ]
    }
   ],
   "source": [
    "print('X_train Shape: ', x_train.shape)\n",
    "print('y_train Shape: ', y_train.shape)\n",
    "print('X_test Shape:  ', x_test.shape)\n",
    "print('y_test Shape:  ', y_test.shape)"
   ]
  },
  {
   "cell_type": "code",
   "execution_count": 24,
   "metadata": {},
   "outputs": [
    {
     "name": "stdout",
     "output_type": "stream",
     "text": [
      "10/10 [==============================] - 1s 10ms/step\n"
     ]
    }
   ],
   "source": [
    "rnn_predicted_price= rnn_regressor.predict(x_test)\n",
    "rnn_predicted_price = normalizer.inverse_transform(rnn_predicted_price) "
   ]
  },
  {
   "cell_type": "code",
   "execution_count": 25,
   "metadata": {},
   "outputs": [
    {
     "data": {
      "image/png": "[encoded data removed]",
      "text/plain": [
       "<Figure size 640x480 with 1 Axes>"
      ]
     },
     "metadata": {},
     "output_type": "display_data"
    }
   ],
   "source": [
    "# Plotting the real vs predicted stock prices for RNN\n",
    "plt.plot(rnn_price_test, color = 'red', label = 'Real Stock Price')\n",
    "plt.plot(rnn_predicted_price, color = 'blue', label = 'RNN Predicted Stock Price')\n",
    "plt.title('Apple Stock Price Prediction with RNN')\n",
    "plt.xlabel('Time')\n",
    "plt.ylabel('Apple Stock Price')\n",
    "plt.legend()\n",
    "plt.show()"
   ]
  },
  {
   "cell_type": "code",
   "execution_count": 34,
   "metadata": {},
   "outputs": [
    {
     "data": {
      "text/plain": [
       "0.7622417589534782"
      ]
     },
     "execution_count": 34,
     "metadata": {},
     "output_type": "execute_result"
    }
   ],
   "source": [
    "# Evaluating the RNN model using R2 score and loss results\n",
    "rnn_r2_score = r2_score(rnn_price_test[0:len(test)], rnn_predicted_price)\n",
    "rnn_r2_score"
   ]
  },
  {
   "cell_type": "code",
   "execution_count": 27,
   "metadata": {},
   "outputs": [
    {
     "name": "stdout",
     "output_type": "stream",
     "text": [
      "10/10 [==============================] - 1s 11ms/step - loss: 0.0121 - accuracy: 0.0000e+00\n"
     ]
    }
   ],
   "source": [
    "rnn_result = rnn_regressor.evaluate(x_test, y_test)"
   ]
  },
  {
   "cell_type": "markdown",
   "id": "751ee148",
   "metadata": {
    "papermill": {
     "duration": 0.013504,
     "end_time": "2023-03-12T14:51:53.184444",
     "exception": false,
     "start_time": "2023-03-12T14:51:53.170940",
     "status": "completed"
    },
    "tags": []
   },
   "source": [
    "## LSTM Model"
   ]
  },
  {
   "cell_type": "code",
   "execution_count": 28,
   "id": "79b9c067",
   "metadata": {
    "execution": {
     "iopub.execute_input": "2023-03-12T14:51:53.213690Z",
     "iopub.status.busy": "2023-03-12T14:51:53.213278Z",
     "iopub.status.idle": "2023-03-12T14:55:25.210451Z",
     "shell.execute_reply": "2023-03-12T14:55:25.209400Z"
    },
    "papermill": {
     "duration": 212.165403,
     "end_time": "2023-03-12T14:55:25.363937",
     "exception": false,
     "start_time": "2023-03-12T14:51:53.198534",
     "status": "completed"
    },
    "tags": []
   },
   "outputs": [
    {
     "name": "stdout",
     "output_type": "stream",
     "text": [
      "Epoch 1/100\n",
      "69/69 [==============================] - 23s 219ms/step - loss: 0.0191 - mean_absolute_error: 0.0858\n",
      "Epoch 2/100\n",
      "69/69 [==============================] - 15s 219ms/step - loss: 0.0049 - mean_absolute_error: 0.0530\n",
      "Epoch 3/100\n",
      "69/69 [==============================] - 15s 218ms/step - loss: 0.0040 - mean_absolute_error: 0.0471\n",
      "Epoch 4/100\n",
      "69/69 [==============================] - 15s 217ms/step - loss: 0.0040 - mean_absolute_error: 0.0478\n",
      "Epoch 5/100\n",
      "69/69 [==============================] - 15s 218ms/step - loss: 0.0039 - mean_absolute_error: 0.0464\n",
      "Epoch 6/100\n",
      "69/69 [==============================] - 15s 221ms/step - loss: 0.0035 - mean_absolute_error: 0.0446\n",
      "Epoch 7/100\n",
      "69/69 [==============================] - 15s 218ms/step - loss: 0.0033 - mean_absolute_error: 0.0425\n",
      "Epoch 8/100\n",
      "69/69 [==============================] - 15s 221ms/step - loss: 0.0031 - mean_absolute_error: 0.0411\n",
      "Epoch 9/100\n",
      "69/69 [==============================] - 15s 217ms/step - loss: 0.0030 - mean_absolute_error: 0.0406\n",
      "Epoch 10/100\n",
      "69/69 [==============================] - 15s 218ms/step - loss: 0.0031 - mean_absolute_error: 0.0414\n",
      "Epoch 11/100\n",
      "69/69 [==============================] - 15s 221ms/step - loss: 0.0029 - mean_absolute_error: 0.0398\n",
      "Epoch 12/100\n",
      "69/69 [==============================] - 15s 220ms/step - loss: 0.0030 - mean_absolute_error: 0.0414\n",
      "Epoch 13/100\n",
      "69/69 [==============================] - 15s 221ms/step - loss: 0.0027 - mean_absolute_error: 0.0390\n",
      "Epoch 14/100\n",
      "69/69 [==============================] - 15s 223ms/step - loss: 0.0026 - mean_absolute_error: 0.0388\n",
      "Epoch 15/100\n",
      "69/69 [==============================] - 15s 222ms/step - loss: 0.0025 - mean_absolute_error: 0.0377\n",
      "Epoch 16/100\n",
      "69/69 [==============================] - 15s 220ms/step - loss: 0.0025 - mean_absolute_error: 0.0374\n",
      "Epoch 17/100\n",
      "69/69 [==============================] - 15s 220ms/step - loss: 0.0023 - mean_absolute_error: 0.0358\n",
      "Epoch 18/100\n",
      "69/69 [==============================] - 15s 221ms/step - loss: 0.0023 - mean_absolute_error: 0.0363\n",
      "Epoch 19/100\n",
      "69/69 [==============================] - 15s 223ms/step - loss: 0.0025 - mean_absolute_error: 0.0373\n",
      "Epoch 20/100\n",
      "69/69 [==============================] - 15s 224ms/step - loss: 0.0023 - mean_absolute_error: 0.0359\n",
      "Epoch 21/100\n",
      "69/69 [==============================] - 15s 224ms/step - loss: 0.0022 - mean_absolute_error: 0.0357\n",
      "Epoch 22/100\n",
      "69/69 [==============================] - 15s 222ms/step - loss: 0.0022 - mean_absolute_error: 0.0352\n",
      "Epoch 23/100\n",
      "69/69 [==============================] - 15s 221ms/step - loss: 0.0022 - mean_absolute_error: 0.0353\n",
      "Epoch 24/100\n",
      "69/69 [==============================] - 15s 221ms/step - loss: 0.0023 - mean_absolute_error: 0.0363\n",
      "Epoch 25/100\n",
      "69/69 [==============================] - 15s 221ms/step - loss: 0.0023 - mean_absolute_error: 0.0360\n",
      "Epoch 26/100\n",
      "69/69 [==============================] - 15s 220ms/step - loss: 0.0020 - mean_absolute_error: 0.0336\n",
      "Epoch 27/100\n",
      "69/69 [==============================] - 15s 218ms/step - loss: 0.0020 - mean_absolute_error: 0.0343\n",
      "Epoch 28/100\n",
      "69/69 [==============================] - 15s 222ms/step - loss: 0.0020 - mean_absolute_error: 0.0334\n",
      "Epoch 29/100\n",
      "69/69 [==============================] - 15s 218ms/step - loss: 0.0021 - mean_absolute_error: 0.0337\n",
      "Epoch 30/100\n",
      "69/69 [==============================] - 15s 218ms/step - loss: 0.0019 - mean_absolute_error: 0.0326\n",
      "Epoch 31/100\n",
      "69/69 [==============================] - 15s 220ms/step - loss: 0.0020 - mean_absolute_error: 0.0337\n",
      "Epoch 32/100\n",
      "69/69 [==============================] - 15s 220ms/step - loss: 0.0018 - mean_absolute_error: 0.0323\n",
      "Epoch 33/100\n",
      "69/69 [==============================] - 15s 219ms/step - loss: 0.0019 - mean_absolute_error: 0.0332\n",
      "Epoch 34/100\n",
      "69/69 [==============================] - 15s 222ms/step - loss: 0.0020 - mean_absolute_error: 0.0334\n",
      "Epoch 35/100\n",
      "69/69 [==============================] - 15s 219ms/step - loss: 0.0019 - mean_absolute_error: 0.0322\n",
      "Epoch 36/100\n",
      "69/69 [==============================] - 15s 222ms/step - loss: 0.0018 - mean_absolute_error: 0.0318\n",
      "Epoch 37/100\n",
      "69/69 [==============================] - 15s 220ms/step - loss: 0.0020 - mean_absolute_error: 0.0331\n",
      "Epoch 38/100\n",
      "69/69 [==============================] - 15s 222ms/step - loss: 0.0019 - mean_absolute_error: 0.0329\n",
      "Epoch 39/100\n",
      "69/69 [==============================] - 15s 221ms/step - loss: 0.0017 - mean_absolute_error: 0.0317\n",
      "Epoch 40/100\n",
      "69/69 [==============================] - 15s 221ms/step - loss: 0.0018 - mean_absolute_error: 0.0314\n",
      "Epoch 41/100\n",
      "69/69 [==============================] - 15s 220ms/step - loss: 0.0019 - mean_absolute_error: 0.0329\n",
      "Epoch 42/100\n",
      "69/69 [==============================] - 15s 223ms/step - loss: 0.0019 - mean_absolute_error: 0.0318\n",
      "Epoch 43/100\n",
      "69/69 [==============================] - 15s 220ms/step - loss: 0.0017 - mean_absolute_error: 0.0309\n",
      "Epoch 44/100\n",
      "69/69 [==============================] - 15s 221ms/step - loss: 0.0017 - mean_absolute_error: 0.0314\n",
      "Epoch 45/100\n",
      "69/69 [==============================] - 15s 221ms/step - loss: 0.0017 - mean_absolute_error: 0.0309\n",
      "Epoch 46/100\n",
      "69/69 [==============================] - 15s 223ms/step - loss: 0.0017 - mean_absolute_error: 0.0310\n",
      "Epoch 47/100\n",
      "69/69 [==============================] - 15s 219ms/step - loss: 0.0017 - mean_absolute_error: 0.0302\n",
      "Epoch 48/100\n",
      "69/69 [==============================] - 15s 224ms/step - loss: 0.0016 - mean_absolute_error: 0.0302\n",
      "Epoch 49/100\n",
      "69/69 [==============================] - 15s 220ms/step - loss: 0.0017 - mean_absolute_error: 0.0306\n",
      "Epoch 50/100\n",
      "69/69 [==============================] - 15s 221ms/step - loss: 0.0019 - mean_absolute_error: 0.0322\n",
      "Epoch 51/100\n",
      "69/69 [==============================] - 15s 220ms/step - loss: 0.0017 - mean_absolute_error: 0.0305\n",
      "Epoch 52/100\n",
      "69/69 [==============================] - 15s 221ms/step - loss: 0.0016 - mean_absolute_error: 0.0301\n",
      "Epoch 53/100\n",
      "69/69 [==============================] - 15s 221ms/step - loss: 0.0016 - mean_absolute_error: 0.0298\n",
      "Epoch 54/100\n",
      "69/69 [==============================] - 15s 222ms/step - loss: 0.0016 - mean_absolute_error: 0.0296\n",
      "Epoch 55/100\n",
      "69/69 [==============================] - 15s 222ms/step - loss: 0.0018 - mean_absolute_error: 0.0313\n",
      "Epoch 56/100\n",
      "69/69 [==============================] - 15s 222ms/step - loss: 0.0016 - mean_absolute_error: 0.0301\n",
      "Epoch 57/100\n",
      "69/69 [==============================] - 15s 220ms/step - loss: 0.0017 - mean_absolute_error: 0.0306\n",
      "Epoch 58/100\n",
      "69/69 [==============================] - 15s 219ms/step - loss: 0.0016 - mean_absolute_error: 0.0300\n",
      "Epoch 59/100\n",
      "69/69 [==============================] - 15s 222ms/step - loss: 0.0014 - mean_absolute_error: 0.0287\n",
      "Epoch 60/100\n",
      "69/69 [==============================] - 15s 223ms/step - loss: 0.0017 - mean_absolute_error: 0.0312\n",
      "Epoch 61/100\n",
      "69/69 [==============================] - 15s 221ms/step - loss: 0.0016 - mean_absolute_error: 0.0297\n",
      "Epoch 62/100\n",
      "69/69 [==============================] - 15s 223ms/step - loss: 0.0016 - mean_absolute_error: 0.0299\n",
      "Epoch 63/100\n",
      "69/69 [==============================] - 15s 223ms/step - loss: 0.0016 - mean_absolute_error: 0.0290\n",
      "Epoch 64/100\n",
      "69/69 [==============================] - 15s 223ms/step - loss: 0.0015 - mean_absolute_error: 0.0295\n",
      "Epoch 65/100\n",
      "69/69 [==============================] - 28s 416ms/step - loss: 0.0015 - mean_absolute_error: 0.0288\n",
      "Epoch 66/100\n",
      "69/69 [==============================] - 17s 253ms/step - loss: 0.0015 - mean_absolute_error: 0.0287\n",
      "Epoch 67/100\n",
      "69/69 [==============================] - 16s 231ms/step - loss: 0.0016 - mean_absolute_error: 0.0298\n",
      "Epoch 68/100\n",
      "69/69 [==============================] - 16s 224ms/step - loss: 0.0016 - mean_absolute_error: 0.0301\n",
      "Epoch 69/100\n",
      "69/69 [==============================] - 15s 221ms/step - loss: 0.0016 - mean_absolute_error: 0.0297\n",
      "Epoch 70/100\n",
      "69/69 [==============================] - 15s 222ms/step - loss: 0.0017 - mean_absolute_error: 0.0298\n",
      "Epoch 71/100\n",
      "69/69 [==============================] - 15s 221ms/step - loss: 0.0016 - mean_absolute_error: 0.0296\n",
      "Epoch 72/100\n",
      "69/69 [==============================] - 15s 217ms/step - loss: 0.0016 - mean_absolute_error: 0.0300\n",
      "Epoch 73/100\n",
      "69/69 [==============================] - 15s 219ms/step - loss: 0.0015 - mean_absolute_error: 0.0289\n",
      "Epoch 74/100\n",
      "69/69 [==============================] - 15s 220ms/step - loss: 0.0014 - mean_absolute_error: 0.0279\n",
      "Epoch 75/100\n",
      "69/69 [==============================] - 15s 221ms/step - loss: 0.0014 - mean_absolute_error: 0.0273\n",
      "Epoch 76/100\n",
      "69/69 [==============================] - 15s 221ms/step - loss: 0.0015 - mean_absolute_error: 0.0289\n",
      "Epoch 77/100\n",
      "69/69 [==============================] - 15s 220ms/step - loss: 0.0016 - mean_absolute_error: 0.0291\n",
      "Epoch 78/100\n",
      "69/69 [==============================] - 15s 223ms/step - loss: 0.0017 - mean_absolute_error: 0.0299\n",
      "Epoch 79/100\n",
      "69/69 [==============================] - 15s 224ms/step - loss: 0.0015 - mean_absolute_error: 0.0288\n",
      "Epoch 80/100\n",
      "69/69 [==============================] - 15s 224ms/step - loss: 0.0014 - mean_absolute_error: 0.0278\n",
      "Epoch 81/100\n",
      "69/69 [==============================] - 15s 223ms/step - loss: 0.0015 - mean_absolute_error: 0.0286\n",
      "Epoch 82/100\n",
      "69/69 [==============================] - 15s 222ms/step - loss: 0.0015 - mean_absolute_error: 0.0280\n",
      "Epoch 83/100\n",
      "69/69 [==============================] - 15s 224ms/step - loss: 0.0014 - mean_absolute_error: 0.0273\n",
      "Epoch 84/100\n",
      "69/69 [==============================] - 15s 223ms/step - loss: 0.0015 - mean_absolute_error: 0.0280\n",
      "Epoch 85/100\n",
      "69/69 [==============================] - 15s 221ms/step - loss: 0.0015 - mean_absolute_error: 0.0286\n",
      "Epoch 86/100\n",
      "69/69 [==============================] - 15s 220ms/step - loss: 0.0014 - mean_absolute_error: 0.0278\n",
      "Epoch 87/100\n",
      "69/69 [==============================] - 15s 222ms/step - loss: 0.0015 - mean_absolute_error: 0.0285\n",
      "Epoch 88/100\n",
      "69/69 [==============================] - 15s 220ms/step - loss: 0.0015 - mean_absolute_error: 0.0287\n",
      "Epoch 89/100\n",
      "69/69 [==============================] - 15s 222ms/step - loss: 0.0014 - mean_absolute_error: 0.0278\n",
      "Epoch 90/100\n",
      "69/69 [==============================] - 15s 223ms/step - loss: 0.0015 - mean_absolute_error: 0.0290\n",
      "Epoch 91/100\n",
      "69/69 [==============================] - 15s 224ms/step - loss: 0.0015 - mean_absolute_error: 0.0281\n",
      "Epoch 92/100\n",
      "69/69 [==============================] - 16s 226ms/step - loss: 0.0015 - mean_absolute_error: 0.0278\n",
      "Epoch 93/100\n",
      "69/69 [==============================] - 16s 227ms/step - loss: 0.0014 - mean_absolute_error: 0.0281\n",
      "Epoch 94/100\n",
      "69/69 [==============================] - 16s 226ms/step - loss: 0.0014 - mean_absolute_error: 0.0280\n",
      "Epoch 95/100\n",
      "69/69 [==============================] - 16s 226ms/step - loss: 0.0013 - mean_absolute_error: 0.0271\n",
      "Epoch 96/100\n",
      "69/69 [==============================] - 15s 225ms/step - loss: 0.0015 - mean_absolute_error: 0.0279\n",
      "Epoch 97/100\n",
      "69/69 [==============================] - 16s 228ms/step - loss: 0.0014 - mean_absolute_error: 0.0275\n",
      "Epoch 98/100\n",
      "69/69 [==============================] - 15s 223ms/step - loss: 0.0014 - mean_absolute_error: 0.0275\n",
      "Epoch 99/100\n",
      "69/69 [==============================] - 15s 224ms/step - loss: 0.0015 - mean_absolute_error: 0.0280\n",
      "Epoch 100/100\n",
      "69/69 [==============================] - 16s 226ms/step - loss: 0.0016 - mean_absolute_error: 0.0289\n"
     ]
    },
    {
     "data": {
      "text/plain": [
       "<keras.src.callbacks.History at 0x156a5393d50>"
      ]
     },
     "execution_count": 28,
     "metadata": {},
     "output_type": "execute_result"
    }
   ],
   "source": [
    "# LSTM Model Building\n",
    "regressor = Sequential() \n",
    "\n",
    "regressor.add(LSTM(units = 256, return_sequences = True, input_shape = (x_train.shape[1], 1)))\n",
    "regressor.add(Dropout(0.1))  \n",
    "\n",
    "# Adding more LSTM and Dropout layers\n",
    "regressor.add(LSTM(units = 128, return_sequences = True))\n",
    "regressor.add(Dropout(0.1))  \n",
    "\n",
    "regressor.add(LSTM(units = 50, return_sequences = True))\n",
    "regressor.add(Dropout(0.1))\n",
    "\n",
    "regressor.add(LSTM(units = 50))\n",
    "regressor.add(Dropout(0.1))\n",
    "\n",
    "# Output layer with single unit for prediction              \n",
    "regressor.add(Dense(units = 1, activation = 'selu'))\n",
    "\n",
    "# Compiling the LSTM model\n",
    "regressor.compile(optimizer = 'nadam', loss = 'mean_squared_error',metrics = ['mean_absolute_error'])\n",
    "\n",
    "# Fitting the LSTM model to the training set\n",
    "regressor.fit(x_train, y_train, epochs = 100, batch_size = 32) "
   ]
  },
  {
   "cell_type": "code",
   "execution_count": 29,
   "id": "bfbc6877",
   "metadata": {
    "execution": {
     "iopub.execute_input": "2023-03-12T14:55:25.670273Z",
     "iopub.status.busy": "2023-03-12T14:55:25.669576Z",
     "iopub.status.idle": "2023-03-12T14:55:25.675152Z",
     "shell.execute_reply": "2023-03-12T14:55:25.673980Z"
    },
    "papermill": {
     "duration": 0.160187,
     "end_time": "2023-03-12T14:55:25.677634",
     "exception": false,
     "start_time": "2023-03-12T14:55:25.517447",
     "status": "completed"
    },
    "tags": []
   },
   "outputs": [],
   "source": [
    "# Preparing the test set for predictions\n",
    "price_test = test.iloc[:, 4:5].values  "
   ]
  },
  {
   "cell_type": "code",
   "execution_count": 30,
   "id": "6d8bd9ce",
   "metadata": {
    "execution": {
     "iopub.execute_input": "2023-03-12T14:55:28.314169Z",
     "iopub.status.busy": "2023-03-12T14:55:28.313783Z",
     "iopub.status.idle": "2023-03-12T14:55:29.735939Z",
     "shell.execute_reply": "2023-03-12T14:55:29.734690Z"
    },
    "papermill": {
     "duration": 1.579195,
     "end_time": "2023-03-12T14:55:29.738439",
     "exception": false,
     "start_time": "2023-03-12T14:55:28.159244",
     "status": "completed"
    },
    "tags": []
   },
   "outputs": [
    {
     "name": "stdout",
     "output_type": "stream",
     "text": [
      "10/10 [==============================] - 2s 73ms/step\n"
     ]
    }
   ],
   "source": [
    "predicted_price= regressor.predict(x_test)\n",
    "predicted_price = normalizer.inverse_transform(predicted_price) "
   ]
  },
  {
   "cell_type": "code",
   "execution_count": 31,
   "id": "5f4177d3",
   "metadata": {
    "execution": {
     "iopub.execute_input": "2023-03-12T14:55:30.087166Z",
     "iopub.status.busy": "2023-03-12T14:55:30.086764Z",
     "iopub.status.idle": "2023-03-12T14:55:30.357157Z",
     "shell.execute_reply": "2023-03-12T14:55:30.356072Z"
    },
    "papermill": {
     "duration": 0.465132,
     "end_time": "2023-03-12T14:55:30.359832",
     "exception": false,
     "start_time": "2023-03-12T14:55:29.894700",
     "status": "completed"
    },
    "tags": []
   },
   "outputs": [
    {
     "data": {
      "image/png": "[encoded data removed]",
      "text/plain": [
       "<Figure size 640x480 with 1 Axes>"
      ]
     },
     "metadata": {},
     "output_type": "display_data"
    }
   ],
   "source": [
    "# Plotting the real vs predicted stock prices for LSTM\n",
    "plt.plot(price_test, color = 'red', label = 'Real Stock Price')\n",
    "plt.plot(predicted_price, color = 'green', label = 'LSTM Predicted Stock Price')\n",
    "plt.title(' Apple Stock Price Prediction with LSTM')\n",
    "plt.xlabel('Time')\n",
    "plt.ylabel('Apple Stock Price')\n",
    "plt.legend()\n",
    "plt.show()"
   ]
  },
  {
   "cell_type": "code",
   "execution_count": 32,
   "id": "20a3fd50",
   "metadata": {
    "execution": {
     "iopub.execute_input": "2023-03-12T14:55:30.681008Z",
     "iopub.status.busy": "2023-03-12T14:55:30.680636Z",
     "iopub.status.idle": "2023-03-12T14:55:30.689963Z",
     "shell.execute_reply": "2023-03-12T14:55:30.688393Z"
    },
    "papermill": {
     "duration": 0.168754,
     "end_time": "2023-03-12T14:55:30.692110",
     "exception": false,
     "start_time": "2023-03-12T14:55:30.523356",
     "status": "completed"
    },
    "tags": []
   },
   "outputs": [
    {
     "data": {
      "text/plain": [
       "0.9441088855320526"
      ]
     },
     "execution_count": 32,
     "metadata": {},
     "output_type": "execute_result"
    }
   ],
   "source": [
    "# Evaluating the model using R2 score\n",
    "r2_score(price_test[0:len(test)],predicted_price)"
   ]
  },
  {
   "cell_type": "code",
   "execution_count": 33,
   "id": "f0f1c034",
   "metadata": {
    "execution": {
     "iopub.execute_input": "2023-03-12T14:55:30.999826Z",
     "iopub.status.busy": "2023-03-12T14:55:30.999342Z",
     "iopub.status.idle": "2023-03-12T14:55:32.581107Z",
     "shell.execute_reply": "2023-03-12T14:55:32.580066Z"
    },
    "papermill": {
     "duration": 1.739211,
     "end_time": "2023-03-12T14:55:32.583544",
     "exception": false,
     "start_time": "2023-03-12T14:55:30.844333",
     "status": "completed"
    },
    "tags": []
   },
   "outputs": [
    {
     "name": "stdout",
     "output_type": "stream",
     "text": [
      "10/10 [==============================] - 2s 73ms/step - loss: 0.0029 - mean_absolute_error: 0.0442\n"
     ]
    }
   ],
   "source": [
    "# Evaluating the model using the test data\n",
    "result =regressor.evaluate(x_test, y_test)"
   ]
  }
 ],
 "metadata": {
  "kernelspec": {
   "display_name": "Python 3",
   "language": "python",
   "name": "python3"
  },
  "language_info": {
   "codemirror_mode": {
    "name": "ipython",
    "version": 3
   },
   "file_extension": ".py",
   "mimetype": "text/x-python",
   "name": "python",
   "nbconvert_exporter": "python",
   "pygments_lexer": "ipython3",
   "version": "3.11.6"
  },
  "papermill": {
   "default_parameters": {},
   "duration": 243.993808,
   "end_time": "2023-03-12T14:55:37.536750",
   "environment_variables": {},
   "exception": null,
   "input_path": "__notebook__.ipynb",
   "output_path": "__notebook__.ipynb",
   "parameters": {},
   "start_time": "2023-03-12T14:51:33.542942",
   "version": "2.4.0"
  }
 },
 "nbformat": 4,
 "nbformat_minor": 5
}
